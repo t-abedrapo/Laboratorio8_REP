{
  "cells": [
    {
      "cell_type": "markdown",
      "metadata": {
        "id": "OR6y997eegsr"
      },
      "source": [
        "<h1><center>Laboratorio 8: Predicciones y Recomendaciones 🔮🪄 </center></h1>\n",
        "\n",
        "<center><strong>MDS7202: Laboratorio de Programación Científica para Ciencia de Datos</strong></center>"
      ]
    },
    {
      "cell_type": "markdown",
      "metadata": {
        "id": "KM11jRmpegss"
      },
      "source": [
        "### **Cuerpo Docente:**\n",
        "\n",
        "- **Profesores:** Ignacio Meza, Sebastián Tinoco\n",
        "- **Auxiliares:** Catherine Benavides, Consuelo Rojas\n",
        "- **Ayudante:** Nicolás Ojeda, Eduardo Moya"
      ]
    },
    {
      "cell_type": "markdown",
      "metadata": {
        "id": "wpbH7VYcegst"
      },
      "source": [
        "### **Equipo: SUPER IMPORTANTE - notebooks sin nombre no serán revisados**\n",
        "\n",
        "- Nombre de alumno: **Tomás Abedrapo**"
      ]
    },
    {
      "cell_type": "markdown",
      "metadata": {
        "id": "4pg5Iz9tegst"
      },
      "source": [
        "### **Link de repositorio de GitHub:** `https://github.com/t-abedrapo/Laboratorio8_REP.git`"
      ]
    },
    {
      "cell_type": "markdown",
      "metadata": {
        "id": "EZCCAQyqegsu"
      },
      "source": [
        "## Temas a tratar\n",
        "- Series de Tiempo.\n",
        "- Predicciones vía `Prophet`.\n",
        "- Implementar un sistema de recomendación utilizando `surprise`.\n",
        "\n",
        "## Reglas:\n",
        "\n",
        "- **Grupos de 2 personas**\n",
        "- Cualquier duda fuera del horario de clases al foro. Mensajes al equipo docente serán respondidos por este medio.\n",
        "- Prohibidas las copias.\n",
        "- Pueden usar cualquer matrial del curso que estimen conveniente.\n",
        "- Código que no se pueda ejecutar, no será revisado.\n",
        "\n",
        "### Objetivos principales del laboratorio\n",
        "- Comprender qué es una serie de tiempo y su estructura.\n",
        "- Identificar tendencias, estacionalidades e irregularidades.\n",
        "- Armar un modelo predictivo para la serie.\n",
        "- Conocer y aplicar sistemas de recomendación.\n",
        "- Entender estructura y conocer casos de estudio.\n"
      ]
    },
    {
      "cell_type": "code",
      "execution_count": null,
      "metadata": {
        "id": "2SVTRREue_CR"
      },
      "outputs": [],
      "source": [
        "# Librerias globales\n",
        "\n",
        "import pandas as pd\n",
        "import numpy as np\n",
        "import matplotlib.pyplot as plt\n",
        "import seaborn as sns\n",
        "import copy"
      ]
    },
    {
      "cell_type": "markdown",
      "metadata": {
        "id": "jKJ0AuRJpDa-"
      },
      "source": [
        "# **Forecasting (3.0 puntos)**\n"
      ]
    },
    {
      "cell_type": "markdown",
      "metadata": {
        "id": "-q56pg4rpJ2d"
      },
      "source": [
        "## **Prophet, teoria**\n",
        "\n",
        "Prophet es una herramienta open-source de Facebook utilizada para realizar predicciones en series de tiempo. Esta se basa en la descomposición aditiva, donde tendencias no lineales se ajustan junto a la estacionalidad.\n",
        "\n",
        "En la ecuación de a continuación se puede ver una idea general de los elementos que construyen a un modelo aditivo como lo es Prophet.\n",
        "\n",
        "\\begin{equation}\n",
        "y(t) = g(t) + s(t) + h(t) + e(t)\n",
        "\\end{equation}\n",
        "\n",
        "Donde, $g(t)$ hace referencia a las tendencias, que corresponden a cambios graduales en largos periodos de tiempo. $s(t)$ corresponde a la estacionalidad, son cambios periodicos o cortos en el tiempo. $h(t)$ es el efecto que tienen las festividades sobre las predicciones, mientras que e(t) corresponde al error o ruido. Finalmente $y(t)$, es la predicción hecha por el modelo.\n",
        "\n",
        "Prophet trabaja por defecto con Piece-Wise Lineal Model, este es un modelo de regresión lineal, en el cual se buscan distintas zonas en que la data presente patrones o tendencias lineales, de estas zonas obtiene su regresión y luego las \"une\" de manera de representar toda la región, como se puede ver en la ecuación siguiente.\n",
        "\n",
        "\\begin{equation}\n",
        "y(x)=\n",
        "    \\begin{cases}\n",
        "        η_1 + \\beta_1(x-b_1), & b_1 < x  \\leqslant b_2 \\\\\n",
        "        η_2 + \\beta_2(x-b_2), & b_2 < x  \\leqslant b_3 \\\\\n",
        "        η_3 + \\beta_3(x-b_3), & b_3 < x  \\leqslant b_3 \\\\\n",
        "        ... \\\\\n",
        "        η_k + \\beta_{nb}(x-b_{nb-1}), & b_{n-1} < x  \\leqslant b_{nb} \\\\\n",
        "    \\end{cases}\n",
        "\\end{equation}\n",
        "\n",
        "Siendo $b_1$ el primer punto de quiebre en la serie y así hasta el punto $b_{nb}$ correspondiente al último punto de quiebre de la serie con una cantidad $nb$ de puntos.\n",
        "\n",
        "Para mayor información de Prophet y como utilizarla, pueden ver su [documentación](https://facebook.github.io/prophet/docs/quick_start.html#python-api), donde hay pueden encontrar un pequeño tutorial de la librería."
      ]
    },
    {
      "cell_type": "markdown",
      "metadata": {
        "id": "iFyj8iydXsXX"
      },
      "source": [
        "## **Prophet, práctica**"
      ]
    },
    {
      "cell_type": "markdown",
      "metadata": {
        "id": "1Ny57G6_jp6I"
      },
      "source": [
        "<center>\n",
        "<img src =\"https://static.wikia.nocookie.net/31minutos/images/d/d1/Don_Sergio.png/revision/latest?cb=20190926222900\" width = 250 />"
      ]
    },
    {
      "cell_type": "markdown",
      "metadata": {
        "id": "qvst6Ow68DTN"
      },
      "source": [
        "Don Sergio quiere entrenar para participar en la maratón y como sabe que correr una maratón requiere de entrenamiento y una dieta balanceada.\n",
        "\n",
        "Por ello, necesita empezar a comer más balanceado, pero también necesita saber que tanto le va a costar esto, de manera de poder agregarlo a su presupuesto.\n",
        "\n",
        "Es así como ustedes tendrán que ayudar a Don Sergio a cumplir su sueño de correr la maratón de Santiago, manteniendo su economía del hogar que comparte con su espora Emerilda."
      ]
    },
    {
      "cell_type": "markdown",
      "metadata": {
        "id": "louYFm_B9vA5"
      },
      "source": [
        "**Datos**\n",
        "\n",
        "Para poder ayudar a Don Sergio, harán uso del dataset `fruit_vegetables.csv`que contiente las siguientes columnas:\n",
        "\n",
        "*   `SN:` Serial Number.\n",
        "*   `Commodity:` Nombre de las frutas o verduras.\n",
        "* `Date:` Fecha del registro.\n",
        "* `Unit:` Unidad del precio.\n",
        "* `Minumum:` Precio mínimo de venta.\n",
        "* `Maximum:` Precio máximo de venta.\n",
        "* `Average:` Precio promedio de venta.\n",
        "\n",
        "\n"
      ]
    },
    {
      "cell_type": "code",
      "execution_count": null,
      "metadata": {
        "colab": {
          "base_uri": "https://localhost:8080/"
        },
        "id": "Jel-6oZF-Uvs",
        "outputId": "d3e6debb-30b7-495f-c6b4-54c10dacf902"
      },
      "outputs": [
        {
          "name": "stdout",
          "output_type": "stream",
          "text": [
            "Mounted at /content/drive\n"
          ]
        }
      ],
      "source": [
        "# Si usted está utilizando Colabolatory le puede ser útil este código para cargar los archivos.\n",
        "try:\n",
        "    from google.colab import drive\n",
        "    drive.mount(\"/content/drive\")\n",
        "    path = 'Dirección donde tiene los archivos en el Drive'\n",
        "except:\n",
        "    print('Ignorando conexión drive-colab')"
      ]
    },
    {
      "cell_type": "markdown",
      "metadata": {
        "id": "KKD2SH9fCGAP"
      },
      "source": [
        "### **1. Serie de Tiempo**\n"
      ]
    },
    {
      "cell_type": "markdown",
      "metadata": {
        "id": "i4V67aohCOtZ"
      },
      "source": [
        "#### **1.1 Pre-procesamiento**"
      ]
    },
    {
      "cell_type": "markdown",
      "metadata": {
        "id": "JfnxX7LiCVaf"
      },
      "source": [
        "Tareas de la sección:\n",
        "\n",
        "\n",
        "1.   Identificar elementos necesarios para generar la serie de tiempo.\n",
        "2.   Gráficar datos.\n",
        "3.   Ver la existencia de tendencias, estacionalidades o ruido.\n",
        "4.   Dividir datos para tener set de entrenamiento (80%) y testeo (20%). Graficar.\n",
        "\n",
        "---\n",
        "\n",
        "\n",
        "\n"
      ]
    },
    {
      "cell_type": "markdown",
      "metadata": {
        "id": "ofMI3wNHDrDf"
      },
      "source": [
        "**Comida de Don Sergio**\n",
        "\n",
        "Don Sergio quiere nutricer lo mejor posible durante su tiempo de entrenamiento, por lo que necesita agregar más frutas y verduras a su dieta. Es por ello que decidío añadir los siguientes elementos a su compra diaria.\n",
        "\n",
        "*   Tomates\n",
        "*   Lechuga\n",
        "*   Manzana\n",
        "*   Plantanos\n",
        "*   Tofu\n",
        "\n",
        "**Nota:** Don Sergio prefiere comprar productos locales, compra un Kg diario de cada cosa y a precio promedio."
      ]
    },
    {
      "cell_type": "markdown",
      "metadata": {
        "id": "v7ZxeS8fLRcT"
      },
      "source": [
        "**Respuesta:**"
      ]
    },
    {
      "cell_type": "code",
      "execution_count": null,
      "metadata": {
        "id": "uYlJXFj28AmJ"
      },
      "outputs": [],
      "source": [
        "# Leer el dataset"
      ]
    },
    {
      "cell_type": "code",
      "execution_count": null,
      "metadata": {
        "id": "tYjZ4TEib_Vq"
      },
      "outputs": [],
      "source": [
        "# Crear máscara con elementos de búsqueda y seleccionar\n"
      ]
    },
    {
      "cell_type": "code",
      "execution_count": null,
      "metadata": {
        "id": "K0C-HN_icEab"
      },
      "outputs": [],
      "source": [
        "# Agrupar por fecha en la columna average y sumar, obtener serie de tiempo\n"
      ]
    },
    {
      "cell_type": "code",
      "execution_count": null,
      "metadata": {
        "id": "XpQIkrb5cNVw"
      },
      "outputs": [],
      "source": [
        "# Graficar serie de tiempo"
      ]
    },
    {
      "cell_type": "code",
      "execution_count": null,
      "metadata": {
        "id": "z_RHBuZkcU1t"
      },
      "outputs": [],
      "source": [
        "# Realizar descomposición de la señal, utilizado seasonal_decompose\n",
        "from statsmodels.tsa.seasonal import seasonal_decompose\n",
        "\n"
      ]
    },
    {
      "cell_type": "code",
      "execution_count": null,
      "metadata": {
        "id": "KqjVme_Acn-4"
      },
      "outputs": [],
      "source": [
        "# Realizar Hold Out de 70/30"
      ]
    },
    {
      "cell_type": "markdown",
      "metadata": {
        "id": "Q3rlcC1xNyYn"
      },
      "source": [
        "#### **1.2 Modelo Prophet**"
      ]
    },
    {
      "cell_type": "markdown",
      "metadata": {
        "id": "llzSzKI3OpPk"
      },
      "source": [
        "A continuación se genera un modelo Prophet para la predicción. Para ello se tiene que:\n",
        "1. Crear dataset, donde columna de tiempo tiene que ir en formate YYYY-MM-DD con el nombre de `ds` y columna objetivo con nombre `y`.\n",
        "2. Entrenar modelo.\n",
        "3. Generar predicción. Notar que el dataframe de predicción solo contiene una columna con nombre `ds`, al inicio."
      ]
    },
    {
      "cell_type": "code",
      "execution_count": null,
      "metadata": {
        "colab": {
          "base_uri": "https://localhost:8080/"
        },
        "id": "0UPvkIHJSWTm",
        "outputId": "7876f054-1187-4556-f656-9e989aec78cf"
      },
      "outputs": [
        {
          "name": "stdout",
          "output_type": "stream",
          "text": [
            "Requirement already satisfied: prophet in /usr/local/lib/python3.10/dist-packages (1.1.5)\n",
            "Requirement already satisfied: cmdstanpy>=1.0.4 in /usr/local/lib/python3.10/dist-packages (from prophet) (1.2.2)\n",
            "Requirement already satisfied: numpy>=1.15.4 in /usr/local/lib/python3.10/dist-packages (from prophet) (1.25.2)\n",
            "Requirement already satisfied: matplotlib>=2.0.0 in /usr/local/lib/python3.10/dist-packages (from prophet) (3.7.1)\n",
            "Requirement already satisfied: pandas>=1.0.4 in /usr/local/lib/python3.10/dist-packages (from prophet) (2.0.3)\n",
            "Requirement already satisfied: holidays>=0.25 in /usr/local/lib/python3.10/dist-packages (from prophet) (0.48)\n",
            "Requirement already satisfied: tqdm>=4.36.1 in /usr/local/lib/python3.10/dist-packages (from prophet) (4.66.4)\n",
            "Requirement already satisfied: importlib-resources in /usr/local/lib/python3.10/dist-packages (from prophet) (6.4.0)\n",
            "Requirement already satisfied: stanio<2.0.0,>=0.4.0 in /usr/local/lib/python3.10/dist-packages (from cmdstanpy>=1.0.4->prophet) (0.5.0)\n",
            "Requirement already satisfied: python-dateutil in /usr/local/lib/python3.10/dist-packages (from holidays>=0.25->prophet) (2.8.2)\n",
            "Requirement already satisfied: contourpy>=1.0.1 in /usr/local/lib/python3.10/dist-packages (from matplotlib>=2.0.0->prophet) (1.2.1)\n",
            "Requirement already satisfied: cycler>=0.10 in /usr/local/lib/python3.10/dist-packages (from matplotlib>=2.0.0->prophet) (0.12.1)\n",
            "Requirement already satisfied: fonttools>=4.22.0 in /usr/local/lib/python3.10/dist-packages (from matplotlib>=2.0.0->prophet) (4.51.0)\n",
            "Requirement already satisfied: kiwisolver>=1.0.1 in /usr/local/lib/python3.10/dist-packages (from matplotlib>=2.0.0->prophet) (1.4.5)\n",
            "Requirement already satisfied: packaging>=20.0 in /usr/local/lib/python3.10/dist-packages (from matplotlib>=2.0.0->prophet) (24.0)\n",
            "Requirement already satisfied: pillow>=6.2.0 in /usr/local/lib/python3.10/dist-packages (from matplotlib>=2.0.0->prophet) (9.4.0)\n",
            "Requirement already satisfied: pyparsing>=2.3.1 in /usr/local/lib/python3.10/dist-packages (from matplotlib>=2.0.0->prophet) (3.1.2)\n",
            "Requirement already satisfied: pytz>=2020.1 in /usr/local/lib/python3.10/dist-packages (from pandas>=1.0.4->prophet) (2023.4)\n",
            "Requirement already satisfied: tzdata>=2022.1 in /usr/local/lib/python3.10/dist-packages (from pandas>=1.0.4->prophet) (2024.1)\n",
            "Requirement already satisfied: six>=1.5 in /usr/local/lib/python3.10/dist-packages (from python-dateutil->holidays>=0.25->prophet) (1.16.0)\n"
          ]
        }
      ],
      "source": [
        "#instalamos prophet\n",
        "!pip install prophet"
      ]
    },
    {
      "cell_type": "code",
      "execution_count": null,
      "metadata": {
        "id": "MGUoUlEfSmDv"
      },
      "outputs": [],
      "source": [
        "# librerias extras\n",
        "from prophet import Prophet\n",
        "from prophet.plot import plot_plotly, plot_components_plotly\n"
      ]
    },
    {
      "cell_type": "markdown",
      "metadata": {
        "id": "l3RURg6jSwoY"
      },
      "source": [
        "**1. Generar dataframes de entrenamiento y testeo**"
      ]
    },
    {
      "cell_type": "code",
      "execution_count": null,
      "metadata": {
        "id": "7_OVULN9S1W3"
      },
      "outputs": [],
      "source": [
        "# Respuesta"
      ]
    },
    {
      "cell_type": "markdown",
      "metadata": {
        "id": "UryjLQ-rS9NR"
      },
      "source": [
        "**2. Modelo y entrenamiento**"
      ]
    },
    {
      "cell_type": "code",
      "execution_count": null,
      "metadata": {
        "id": "N-uZcmW-TAdw"
      },
      "outputs": [],
      "source": [
        "# Respuesta, tal vez si menciono más arriba que prophet usar la sintaxis de sklearn esto lo hacen solitos nomas\n",
        "model = Prophet()\n",
        "model.fit(df_train)\n"
      ]
    },
    {
      "cell_type": "markdown",
      "metadata": {
        "id": "WT7Rs32BT5wD"
      },
      "source": [
        "**3. Predicción.**\n",
        "\n",
        "¿Qué muestra el dataframe de predicción una vez realizada la predicción? ¿Qué siginifican las distintas columnas?"
      ]
    },
    {
      "cell_type": "code",
      "execution_count": null,
      "metadata": {
        "id": "ANLvysLAUP3I"
      },
      "outputs": [],
      "source": [
        "# Respuesta"
      ]
    },
    {
      "cell_type": "markdown",
      "metadata": {
        "id": "aS1HYaMDUXvB"
      },
      "source": [
        "**Gráficos de resultados**\n",
        "\n",
        "\n",
        "Ahora, vemos el resultado de la predicción hecha a través de los gráficos que vienen implementados en la libreria.\n",
        "\n",
        "Se tienen gráficos de la predicción del modelo y descomposición por componentes."
      ]
    },
    {
      "cell_type": "code",
      "execution_count": null,
      "metadata": {
        "id": "n-9CIICFVMQ4"
      },
      "outputs": [],
      "source": [
        "# plot forecast, estático.\n",
        "f, ax = plt.subplot(1)\n",
        "f.set_figheight(5)\n",
        "f.set_figwidth(15)\n",
        "fig = model.plot('acá va su predicción', ax=ax)\n",
        "plt.show()"
      ]
    },
    {
      "cell_type": "code",
      "execution_count": null,
      "metadata": {
        "id": "-t24dFfgWj-q"
      },
      "outputs": [],
      "source": [
        "# descomposición por componentes, estático\n",
        "fig = model.plot_components('dataframe de predicción')"
      ]
    },
    {
      "cell_type": "markdown",
      "metadata": {
        "id": "iYfb_VDxXFqg"
      },
      "source": [
        "#### **1.3 Resultados y métricas**"
      ]
    },
    {
      "cell_type": "markdown",
      "metadata": {
        "id": "C_PhFomDXMV0"
      },
      "source": [
        "En la presente sección se van a ver los resultados de la predicción, comparando con los resultados originales, así se obtienen métricas de error. Para ello se hacen los siguientes pasos:\n",
        "1. Inspeccionar gráfica de predicción con los datos reales. Agregar tres vistas: predicción del primer 15% de los datos, 50% de los datos y 100% de la predicción.\n",
        "2. Calcular métricas de error (RMSE, MAE, MAPE)."
      ]
    },
    {
      "cell_type": "code",
      "execution_count": null,
      "metadata": {
        "id": "IRcxboMPXLTD"
      },
      "outputs": [],
      "source": [
        "# Respuesta"
      ]
    },
    {
      "cell_type": "markdown",
      "metadata": {
        "id": "JZQDOr66Yjqu"
      },
      "source": [
        "#### **1.4 Festividades y fechas importantes**\n",
        "\n",
        "Como a todos, a Don Sergio también le afectan las fechas importantes. Para ver como afectan estas fechas al presupuesto de Don Sergio tiene que realizar las siguientes tareas:\n",
        "\n",
        "1. Crear dataframe con fechas importantes y agregar las al modelo con el argumento `holiday`.\n",
        "2. Predecir las el dataframe de testeo\n",
        "3. Comparar resultados. Hacer una tabla con resultados RMSE, MAE, MAPE anteriores y al añadir las festividades.\n"
      ]
    },
    {
      "cell_type": "markdown",
      "metadata": {
        "id": "8sL5Q1s6s6LZ"
      },
      "source": [
        "**1. Festividades y agregar a modelo**"
      ]
    },
    {
      "cell_type": "code",
      "execution_count": null,
      "metadata": {
        "id": "bISIsinAn7W1"
      },
      "outputs": [],
      "source": [
        "# Respuesta\n",
        "\n"
      ]
    },
    {
      "cell_type": "markdown",
      "metadata": {
        "id": "xWj7458StJkO"
      },
      "source": [
        "**2. Predecir**"
      ]
    },
    {
      "cell_type": "code",
      "execution_count": null,
      "metadata": {
        "id": "dMKWSnqptJTW"
      },
      "outputs": [],
      "source": [
        "# Respuesta"
      ]
    },
    {
      "cell_type": "markdown",
      "metadata": {
        "id": "hMA7LvWwtPGm"
      },
      "source": [
        "**3. Resultados**"
      ]
    },
    {
      "cell_type": "code",
      "execution_count": null,
      "metadata": {
        "id": "yT4h_ZSCtO61"
      },
      "outputs": [],
      "source": [
        "# Respuesta\n",
        "\n",
        "#plot de componentes\n",
        "\n",
        "#plot de predicción\n",
        "\n",
        "#resultados"
      ]
    },
    {
      "cell_type": "markdown",
      "metadata": {
        "id": "tntuocYYt-Ci"
      },
      "source": [
        "¿Son más precisas las predicciones? ¿Qué otro festividad podría afectar a los precios de las frutas y verduras?"
      ]
    },
    {
      "cell_type": "markdown",
      "metadata": {
        "id": "EaIZnr-Jyeha"
      },
      "source": [
        "#### **1.5 Regresores adicionales**\n"
      ]
    },
    {
      "cell_type": "markdown",
      "metadata": {
        "id": "82TOv-tIylSU"
      },
      "source": [
        "Don Sergio sabe que la fruta y la verdura tiene temporadas y que por eso hay fechas en que hay ciertas cosas más caras que otras. Además, sabe que este tipo de alimentos sube de precio en invierno, por lo que necesita que tenga en cuenta estas fechas.\n",
        "\n",
        "\n",
        "---\n",
        " Para lograr lo anterior tendrán que:\n",
        " 1. Crear regresor con 1 y 0's según corresponda, para las fechas de invierno. Tomar invierno desde el 21/junio hasta el 21/septiembre de todos los años.\n",
        " 2. Agregar columna con el regresor tanto al dataframe original como al de testeo\n",
        " 3. Entrenar y predecir. Gráficar resultados."
      ]
    },
    {
      "cell_type": "code",
      "execution_count": null,
      "metadata": {
        "id": "gRaaTdfpyk9h"
      },
      "outputs": [],
      "source": [
        "# Respuesta"
      ]
    },
    {
      "cell_type": "markdown",
      "metadata": {
        "id": "BLZrLUXrKpj1"
      },
      "source": [
        "# **Sistemas de Recomendación (3.0 puntos)**"
      ]
    },
    {
      "cell_type": "markdown",
      "metadata": {
        "id": "Q-ozzQByLBlc"
      },
      "source": [
        "<center>\n",
        "<img src = \"https://upload.wikimedia.org/wikipedia/commons/thumb/a/aa/Shopping_online_with_bank_card.jpg/1024px-Shopping_online_with_bank_card.jpg\" / width = 350>"
      ]
    },
    {
      "cell_type": "markdown",
      "metadata": {
        "id": "QVsMCiMkqObV"
      },
      "source": [
        "Como no todo en la vida es correr y nutrirse, don Sergio desarrollo el hábito de comprar online y pasa horas y horas en Amazon viendo distintos objetos que le podrían servir, pero no sabe qué comprar, por lo que usted tendrá que ayudarlo a buscar los elementos más comprados por sus amigos para que él también pueda probarlos.\n",
        "\n",
        "---\n",
        "\n",
        "Las tareas a realizar son:\n",
        "\n",
        "1. Limpiar y explorar el dataset.\n",
        "2. Recomendación por Ranking (baseline).\n",
        "3. Recomendación basada en filtros colaborativos por usuarios.\n",
        "4. Recomendaciones basadas en filtros colaborativos por items.\n",
        "\n"
      ]
    },
    {
      "cell_type": "code",
      "execution_count": null,
      "metadata": {
        "colab": {
          "base_uri": "https://localhost:8080/"
        },
        "id": "2igMuCgqZjYl",
        "outputId": "ef6d3808-f6fa-41f0-9d5d-2d8b0aae7235"
      },
      "outputs": [
        {
          "name": "stdout",
          "output_type": "stream",
          "text": [
            "Collecting surprise\n",
            "  Downloading surprise-0.1-py2.py3-none-any.whl (1.8 kB)\n",
            "Collecting scikit-surprise (from surprise)\n",
            "  Downloading scikit-surprise-1.1.3.tar.gz (771 kB)\n",
            "\u001b[2K     \u001b[90m━━━━━━━━━━━━━━━━━━━━━━━━━━━━━━━━━━━━━━━━\u001b[0m \u001b[32m772.0/772.0 kB\u001b[0m \u001b[31m6.9 MB/s\u001b[0m eta \u001b[36m0:00:00\u001b[0m\n",
            "\u001b[?25h  Preparing metadata (setup.py) ... \u001b[?25l\u001b[?25hdone\n",
            "Requirement already satisfied: joblib>=1.0.0 in /usr/local/lib/python3.10/dist-packages (from scikit-surprise->surprise) (1.4.2)\n",
            "Requirement already satisfied: numpy>=1.17.3 in /usr/local/lib/python3.10/dist-packages (from scikit-surprise->surprise) (1.25.2)\n",
            "Requirement already satisfied: scipy>=1.3.2 in /usr/local/lib/python3.10/dist-packages (from scikit-surprise->surprise) (1.11.4)\n",
            "Building wheels for collected packages: scikit-surprise\n",
            "  Building wheel for scikit-surprise (setup.py) ... \u001b[?25l\u001b[?25hdone\n",
            "  Created wheel for scikit-surprise: filename=scikit_surprise-1.1.3-cp310-cp310-linux_x86_64.whl size=3162995 sha256=7f096d46a15cbf79732cc92fb0ca2f0401649c80906e96bddfe4e66ddd4ef445\n",
            "  Stored in directory: /root/.cache/pip/wheels/a5/ca/a8/4e28def53797fdc4363ca4af740db15a9c2f1595ebc51fb445\n",
            "Successfully built scikit-surprise\n",
            "Installing collected packages: scikit-surprise, surprise\n",
            "Successfully installed scikit-surprise-1.1.3 surprise-0.1\n"
          ]
        }
      ],
      "source": [
        "# se instala surprise library\n",
        "!pip install surprise"
      ]
    },
    {
      "cell_type": "code",
      "execution_count": null,
      "metadata": {
        "id": "Sr2dIkMHFQWs"
      },
      "outputs": [],
      "source": [
        "# Librerias extras\n",
        "from sklearn.preprocessing import LabelEncoder\n",
        "\n",
        "from surprise import accuracy\n",
        "from surprise.reader import Reader\n",
        "from surprise.dataset import Dataset\n",
        "from surprise.prediction_algorithms.knns import KNNBasic\n",
        "from surprise.prediction_algorithms.matrix_factorization import SVD\n",
        "\n",
        "import pandas as pd\n",
        "from copy import deepcopy"
      ]
    },
    {
      "cell_type": "markdown",
      "metadata": {
        "id": "ao0e_BVZs8Ss"
      },
      "source": [
        "Los datos presentan las siguientes columnas:\n",
        "* `iderId`: ID único de cada usuario\n",
        "* `productId:` ID único de cada producto\n",
        "* `Rating:` Rating que un usuario le dio a un producto\n",
        "* `timestamp:` Fecha del rating"
      ]
    },
    {
      "cell_type": "code",
      "execution_count": null,
      "metadata": {
        "colab": {
          "base_uri": "https://localhost:8080/",
          "height": 204
        },
        "id": "wszCpxxItD8s",
        "outputId": "2954fbfd-8a74-4480-a73a-139ca19ff283"
      },
      "outputs": [
        {
          "data": {
            "application/vnd.google.colaboratory.intrinsic+json": {
              "type": "dataframe",
              "variable_name": "df"
            },
            "text/html": [
              "\n",
              "  <div id=\"df-c0c94cb1-398b-4809-9fc6-3c900c0e769e\" class=\"colab-df-container\">\n",
              "    <div>\n",
              "<style scoped>\n",
              "    .dataframe tbody tr th:only-of-type {\n",
              "        vertical-align: middle;\n",
              "    }\n",
              "\n",
              "    .dataframe tbody tr th {\n",
              "        vertical-align: top;\n",
              "    }\n",
              "\n",
              "    .dataframe thead th {\n",
              "        text-align: right;\n",
              "    }\n",
              "</style>\n",
              "<table border=\"1\" class=\"dataframe\">\n",
              "  <thead>\n",
              "    <tr style=\"text-align: right;\">\n",
              "      <th></th>\n",
              "      <th>user_id</th>\n",
              "      <th>prod_id</th>\n",
              "      <th>rating</th>\n",
              "    </tr>\n",
              "  </thead>\n",
              "  <tbody>\n",
              "    <tr>\n",
              "      <th>189</th>\n",
              "      <td>3188</td>\n",
              "      <td>0</td>\n",
              "      <td>5.0</td>\n",
              "    </tr>\n",
              "    <tr>\n",
              "      <th>200</th>\n",
              "      <td>4980</td>\n",
              "      <td>0</td>\n",
              "      <td>4.0</td>\n",
              "    </tr>\n",
              "    <tr>\n",
              "      <th>314</th>\n",
              "      <td>5374</td>\n",
              "      <td>0</td>\n",
              "      <td>5.0</td>\n",
              "    </tr>\n",
              "    <tr>\n",
              "      <th>389</th>\n",
              "      <td>6293</td>\n",
              "      <td>0</td>\n",
              "      <td>5.0</td>\n",
              "    </tr>\n",
              "    <tr>\n",
              "      <th>406</th>\n",
              "      <td>4879</td>\n",
              "      <td>0</td>\n",
              "      <td>3.0</td>\n",
              "    </tr>\n",
              "  </tbody>\n",
              "</table>\n",
              "</div>\n",
              "    <div class=\"colab-df-buttons\">\n",
              "\n",
              "  <div class=\"colab-df-container\">\n",
              "    <button class=\"colab-df-convert\" onclick=\"convertToInteractive('df-c0c94cb1-398b-4809-9fc6-3c900c0e769e')\"\n",
              "            title=\"Convert this dataframe to an interactive table.\"\n",
              "            style=\"display:none;\">\n",
              "\n",
              "  <svg xmlns=\"http://www.w3.org/2000/svg\" height=\"24px\" viewBox=\"0 -960 960 960\">\n",
              "    <path d=\"M120-120v-720h720v720H120Zm60-500h600v-160H180v160Zm220 220h160v-160H400v160Zm0 220h160v-160H400v160ZM180-400h160v-160H180v160Zm440 0h160v-160H620v160ZM180-180h160v-160H180v160Zm440 0h160v-160H620v160Z\"/>\n",
              "  </svg>\n",
              "    </button>\n",
              "\n",
              "  <style>\n",
              "    .colab-df-container {\n",
              "      display:flex;\n",
              "      gap: 12px;\n",
              "    }\n",
              "\n",
              "    .colab-df-convert {\n",
              "      background-color: #E8F0FE;\n",
              "      border: none;\n",
              "      border-radius: 50%;\n",
              "      cursor: pointer;\n",
              "      display: none;\n",
              "      fill: #1967D2;\n",
              "      height: 32px;\n",
              "      padding: 0 0 0 0;\n",
              "      width: 32px;\n",
              "    }\n",
              "\n",
              "    .colab-df-convert:hover {\n",
              "      background-color: #E2EBFA;\n",
              "      box-shadow: 0px 1px 2px rgba(60, 64, 67, 0.3), 0px 1px 3px 1px rgba(60, 64, 67, 0.15);\n",
              "      fill: #174EA6;\n",
              "    }\n",
              "\n",
              "    .colab-df-buttons div {\n",
              "      margin-bottom: 4px;\n",
              "    }\n",
              "\n",
              "    [theme=dark] .colab-df-convert {\n",
              "      background-color: #3B4455;\n",
              "      fill: #D2E3FC;\n",
              "    }\n",
              "\n",
              "    [theme=dark] .colab-df-convert:hover {\n",
              "      background-color: #434B5C;\n",
              "      box-shadow: 0px 1px 3px 1px rgba(0, 0, 0, 0.15);\n",
              "      filter: drop-shadow(0px 1px 2px rgba(0, 0, 0, 0.3));\n",
              "      fill: #FFFFFF;\n",
              "    }\n",
              "  </style>\n",
              "\n",
              "    <script>\n",
              "      const buttonEl =\n",
              "        document.querySelector('#df-c0c94cb1-398b-4809-9fc6-3c900c0e769e button.colab-df-convert');\n",
              "      buttonEl.style.display =\n",
              "        google.colab.kernel.accessAllowed ? 'block' : 'none';\n",
              "\n",
              "      async function convertToInteractive(key) {\n",
              "        const element = document.querySelector('#df-c0c94cb1-398b-4809-9fc6-3c900c0e769e');\n",
              "        const dataTable =\n",
              "          await google.colab.kernel.invokeFunction('convertToInteractive',\n",
              "                                                    [key], {});\n",
              "        if (!dataTable) return;\n",
              "\n",
              "        const docLinkHtml = 'Like what you see? Visit the ' +\n",
              "          '<a target=\"_blank\" href=https://colab.research.google.com/notebooks/data_table.ipynb>data table notebook</a>'\n",
              "          + ' to learn more about interactive tables.';\n",
              "        element.innerHTML = '';\n",
              "        dataTable['output_type'] = 'display_data';\n",
              "        await google.colab.output.renderOutput(dataTable, element);\n",
              "        const docLink = document.createElement('div');\n",
              "        docLink.innerHTML = docLinkHtml;\n",
              "        element.appendChild(docLink);\n",
              "      }\n",
              "    </script>\n",
              "  </div>\n",
              "\n",
              "\n",
              "<div id=\"df-fc1ed73d-664e-4c2b-a7bb-502598dcb1d9\">\n",
              "  <button class=\"colab-df-quickchart\" onclick=\"quickchart('df-fc1ed73d-664e-4c2b-a7bb-502598dcb1d9')\"\n",
              "            title=\"Suggest charts\"\n",
              "            style=\"display:none;\">\n",
              "\n",
              "<svg xmlns=\"http://www.w3.org/2000/svg\" height=\"24px\"viewBox=\"0 0 24 24\"\n",
              "     width=\"24px\">\n",
              "    <g>\n",
              "        <path d=\"M19 3H5c-1.1 0-2 .9-2 2v14c0 1.1.9 2 2 2h14c1.1 0 2-.9 2-2V5c0-1.1-.9-2-2-2zM9 17H7v-7h2v7zm4 0h-2V7h2v10zm4 0h-2v-4h2v4z\"/>\n",
              "    </g>\n",
              "</svg>\n",
              "  </button>\n",
              "\n",
              "<style>\n",
              "  .colab-df-quickchart {\n",
              "      --bg-color: #E8F0FE;\n",
              "      --fill-color: #1967D2;\n",
              "      --hover-bg-color: #E2EBFA;\n",
              "      --hover-fill-color: #174EA6;\n",
              "      --disabled-fill-color: #AAA;\n",
              "      --disabled-bg-color: #DDD;\n",
              "  }\n",
              "\n",
              "  [theme=dark] .colab-df-quickchart {\n",
              "      --bg-color: #3B4455;\n",
              "      --fill-color: #D2E3FC;\n",
              "      --hover-bg-color: #434B5C;\n",
              "      --hover-fill-color: #FFFFFF;\n",
              "      --disabled-bg-color: #3B4455;\n",
              "      --disabled-fill-color: #666;\n",
              "  }\n",
              "\n",
              "  .colab-df-quickchart {\n",
              "    background-color: var(--bg-color);\n",
              "    border: none;\n",
              "    border-radius: 50%;\n",
              "    cursor: pointer;\n",
              "    display: none;\n",
              "    fill: var(--fill-color);\n",
              "    height: 32px;\n",
              "    padding: 0;\n",
              "    width: 32px;\n",
              "  }\n",
              "\n",
              "  .colab-df-quickchart:hover {\n",
              "    background-color: var(--hover-bg-color);\n",
              "    box-shadow: 0 1px 2px rgba(60, 64, 67, 0.3), 0 1px 3px 1px rgba(60, 64, 67, 0.15);\n",
              "    fill: var(--button-hover-fill-color);\n",
              "  }\n",
              "\n",
              "  .colab-df-quickchart-complete:disabled,\n",
              "  .colab-df-quickchart-complete:disabled:hover {\n",
              "    background-color: var(--disabled-bg-color);\n",
              "    fill: var(--disabled-fill-color);\n",
              "    box-shadow: none;\n",
              "  }\n",
              "\n",
              "  .colab-df-spinner {\n",
              "    border: 2px solid var(--fill-color);\n",
              "    border-color: transparent;\n",
              "    border-bottom-color: var(--fill-color);\n",
              "    animation:\n",
              "      spin 1s steps(1) infinite;\n",
              "  }\n",
              "\n",
              "  @keyframes spin {\n",
              "    0% {\n",
              "      border-color: transparent;\n",
              "      border-bottom-color: var(--fill-color);\n",
              "      border-left-color: var(--fill-color);\n",
              "    }\n",
              "    20% {\n",
              "      border-color: transparent;\n",
              "      border-left-color: var(--fill-color);\n",
              "      border-top-color: var(--fill-color);\n",
              "    }\n",
              "    30% {\n",
              "      border-color: transparent;\n",
              "      border-left-color: var(--fill-color);\n",
              "      border-top-color: var(--fill-color);\n",
              "      border-right-color: var(--fill-color);\n",
              "    }\n",
              "    40% {\n",
              "      border-color: transparent;\n",
              "      border-right-color: var(--fill-color);\n",
              "      border-top-color: var(--fill-color);\n",
              "    }\n",
              "    60% {\n",
              "      border-color: transparent;\n",
              "      border-right-color: var(--fill-color);\n",
              "    }\n",
              "    80% {\n",
              "      border-color: transparent;\n",
              "      border-right-color: var(--fill-color);\n",
              "      border-bottom-color: var(--fill-color);\n",
              "    }\n",
              "    90% {\n",
              "      border-color: transparent;\n",
              "      border-bottom-color: var(--fill-color);\n",
              "    }\n",
              "  }\n",
              "</style>\n",
              "\n",
              "  <script>\n",
              "    async function quickchart(key) {\n",
              "      const quickchartButtonEl =\n",
              "        document.querySelector('#' + key + ' button');\n",
              "      quickchartButtonEl.disabled = true;  // To prevent multiple clicks.\n",
              "      quickchartButtonEl.classList.add('colab-df-spinner');\n",
              "      try {\n",
              "        const charts = await google.colab.kernel.invokeFunction(\n",
              "            'suggestCharts', [key], {});\n",
              "      } catch (error) {\n",
              "        console.error('Error during call to suggestCharts:', error);\n",
              "      }\n",
              "      quickchartButtonEl.classList.remove('colab-df-spinner');\n",
              "      quickchartButtonEl.classList.add('colab-df-quickchart-complete');\n",
              "    }\n",
              "    (() => {\n",
              "      let quickchartButtonEl =\n",
              "        document.querySelector('#df-fc1ed73d-664e-4c2b-a7bb-502598dcb1d9 button');\n",
              "      quickchartButtonEl.style.display =\n",
              "        google.colab.kernel.accessAllowed ? 'block' : 'none';\n",
              "    })();\n",
              "  </script>\n",
              "</div>\n",
              "    </div>\n",
              "  </div>\n"
            ],
            "text/plain": [
              "     user_id  prod_id  rating\n",
              "189     3188        0     5.0\n",
              "200     4980        0     4.0\n",
              "314     5374        0     5.0\n",
              "389     6293        0     5.0\n",
              "406     4879        0     3.0"
            ]
          },
          "execution_count": 66,
          "metadata": {},
          "output_type": "execute_result"
        }
      ],
      "source": [
        "df = pd.read_parquet('ratings_Electronics.parquet')\n",
        "df.head()"
      ]
    },
    {
      "cell_type": "markdown",
      "metadata": {
        "id": "Y3rzNRXJ9wTM"
      },
      "source": [
        "### **2.1.2 EDA (0.5 puntos)**\n",
        "\n",
        "Habiendo limpiado los datos, generemos un pequeño análisis exploratorio:"
      ]
    },
    {
      "cell_type": "markdown",
      "metadata": {
        "id": "fOZfN_0sWSk8"
      },
      "source": [
        "Reportar la cantidad de usuarios y productos únicos:"
      ]
    },
    {
      "cell_type": "code",
      "execution_count": null,
      "metadata": {
        "id": "ImWrtTNRWR3B"
      },
      "outputs": [],
      "source": [
        "# Respuesta"
      ]
    },
    {
      "cell_type": "markdown",
      "metadata": {
        "id": "R-Ft_fdRCjtE"
      },
      "source": [
        "Verificar que no hayan valores nulos"
      ]
    },
    {
      "cell_type": "code",
      "execution_count": null,
      "metadata": {
        "id": "nPx1nvEQ97bm"
      },
      "outputs": [],
      "source": [
        "# Respuesta"
      ]
    },
    {
      "cell_type": "markdown",
      "metadata": {
        "id": "84xPAfHd-IRx"
      },
      "source": [
        "Graficar distribución de los ratings"
      ]
    },
    {
      "cell_type": "code",
      "execution_count": null,
      "metadata": {
        "id": "RaVW2zIb-Q6Z"
      },
      "outputs": [],
      "source": [
        "# Respuesta"
      ]
    },
    {
      "cell_type": "markdown",
      "metadata": {
        "id": "IKJ_RtRA-1b2"
      },
      "source": [
        "Reportar las siguientes listas:\n",
        "\n",
        "- Top 5 de usuarios con mayores interacciones\n",
        "- Top 5 de productos con mayores inteacciones"
      ]
    },
    {
      "cell_type": "code",
      "execution_count": null,
      "metadata": {
        "id": "zkOtAVT---99"
      },
      "outputs": [],
      "source": [
        "# Respuesta"
      ]
    },
    {
      "cell_type": "markdown",
      "metadata": {
        "id": "FFsUjCpW_AYH"
      },
      "source": [
        "A partir de sus respuestas, escriba al menos 3 conclusiones.\n",
        "\n",
        "Escriba sus observaciones aquí:\n",
        "\n",
        "1.\n",
        "2.\n",
        "3."
      ]
    },
    {
      "cell_type": "markdown",
      "metadata": {
        "id": "I3Zr0ucXF3r-"
      },
      "source": [
        "## **2.2 Holdout**\n",
        "\n",
        "Con los datos procesados, separe los datos de entrenamiento en train y test asignando 30% de los datos para el conjunto de test. Para replicabilidad de sus respuestas, fije la semilla en `42`."
      ]
    },
    {
      "cell_type": "code",
      "execution_count": null,
      "metadata": {
        "colab": {
          "base_uri": "https://localhost:8080/"
        },
        "id": "BK91BtkIYvfu",
        "outputId": "45f4689d-ccd4-461b-8a6c-c963fbdcf385"
      },
      "outputs": [
        {
          "data": {
            "text/plain": [
              "<surprise.dataset.DatasetAutoFolds at 0x79217c5a1c90>"
            ]
          },
          "execution_count": 76,
          "metadata": {},
          "output_type": "execute_result"
        }
      ],
      "source": [
        "reader = Reader(rating_scale=(0,5))\n",
        "\n",
        "df_collaborative = df[['user_id', 'prod_id', 'rating']].copy() # ordenamos dataset en user, producto, rating (paso clave para trabajar con Surprise)\n",
        "dataset = Dataset.load_from_df(df_collaborative, reader) # generamos Dataset de Surprise\n"
      ]
    },
    {
      "cell_type": "code",
      "execution_count": null,
      "metadata": {
        "colab": {
          "base_uri": "https://localhost:8080/"
        },
        "id": "29uATSF3YWtT",
        "outputId": "63e20db3-8943-4a8e-ace0-c07862599d7e"
      },
      "outputs": [
        {
          "data": {
            "text/plain": [
              "<surprise.trainset.Trainset at 0x79217c5a2440>"
            ]
          },
          "execution_count": 77,
          "metadata": {},
          "output_type": "execute_result"
        }
      ],
      "source": [
        "from surprise.model_selection import train_test_split\n",
        "\n",
        "# Respuesta"
      ]
    },
    {
      "cell_type": "markdown",
      "metadata": {
        "id": "t3iQikR9AF2m"
      },
      "source": [
        "## **2.3 Baseline**\n",
        "\n",
        "El objetivo de esta sección es generar un *baseline* en las recomendaciones a partir de una aproximación *dummy* para resolver el problema de recomendación. En particular, se le pide lo siguiente:\n",
        "- Entrenar modelo baseline `NormalPredictor` de `surprise` con los datos de entrenamiento\n",
        "- Generar predicciones usando el modelo entrenado\n",
        "- Evaluar predicciones usando el error cuadrático medio. Entregue una interpretación de su resultado"
      ]
    },
    {
      "cell_type": "code",
      "execution_count": null,
      "metadata": {
        "id": "x3oj2gyrB1Fz"
      },
      "outputs": [],
      "source": [
        "from surprise.prediction_algorithms.random_pred import NormalPredictor\n",
        "\n",
        "# Respuesta"
      ]
    },
    {
      "cell_type": "code",
      "execution_count": null,
      "metadata": {
        "id": "bC2SE9ZZB6BK"
      },
      "outputs": [],
      "source": [
        "# Evaluar con MAE"
      ]
    },
    {
      "cell_type": "markdown",
      "metadata": {
        "id": "zhEZGMZ0rShK"
      },
      "source": [
        "## **Filtros Colaborativos Basados en Memoria**\n",
        "\n",
        "A modo de mejorar esta sección, se le pide que implementar filtros colaborativos basados en memoria por medio de algoritmos basados en KNN. En específico, se le pide implementar:\n",
        "- Filtro Colaborativo KNN enfocado en el Usuario\n",
        "- Filtro Colaborativo KNN enfocado en el Producto\n",
        "- Use `KNNBasic` y similitud coseno para ambos modelos\n",
        "\n",
        "Luego **para cada uno de los modelos**, responda:\n",
        "\n",
        "- Obtenga el error cuadrático medio de sus recomendaciones y comente. ¿Qué enfoque tienen un mejor rendimiento? ¿Se alcanza un mejor rendimiento con respecto al Baseline?\n",
        "- Obtenga el rating que le asignaria el usuario `3` al producto `3906`. ¿Son diferentes sus resultados? ¿Porqué?\n",
        "- Obtenga las 5 mejores recomendaciones para el usuario `2170` usando ambos enfoques y compare sus resultados.\n",
        "\n",
        "*Hint: Le podría servir apoyarse de esta [documentación](https://surprise.readthedocs.io/en/stable/prediction_algorithms.html#similarity-measures-configuration).*"
      ]
    },
    {
      "cell_type": "code",
      "execution_count": null,
      "metadata": {
        "id": "wOlimH3YDujY"
      },
      "outputs": [],
      "source": [
        "def get_user_top_k(predictions, user, k = 10):\n",
        "\n",
        "  # predecir los rating filtrados por usuario user\n",
        "  predicted_ratings =\n",
        "\n",
        "  # Ordenar las predicciones\n",
        "  sorted_predicted_ratings =\n",
        "\n",
        "  return sorted_predicted_ratings[:k]"
      ]
    },
    {
      "cell_type": "code",
      "execution_count": null,
      "metadata": {
        "colab": {
          "base_uri": "https://localhost:8080/"
        },
        "id": "8ivAzo0a3_Vr",
        "outputId": "02972871-eaec-463f-ef01-04612a0ffe62"
      },
      "outputs": [
        {
          "name": "stdout",
          "output_type": "stream",
          "text": [
            "Computing the cosine similarity matrix...\n",
            "Done computing similarity matrix.\n",
            "MSE: 1.2122\n",
            "[Prediction(uid=3, iid=3906, r_ui=None, est=3.381966011250105, details={'actual_k': 3, 'was_impossible': False})]\n"
          ]
        },
        {
          "data": {
            "text/plain": [
              "[(2679, 5),\n",
              " (1326, 4.799755049750801),\n",
              " (4650, 4.399861310283875),\n",
              " (1692, 4.333333333333333),\n",
              " (4363, 4.199459547276517)]"
            ]
          },
          "execution_count": 81,
          "metadata": {},
          "output_type": "execute_result"
        }
      ],
      "source": [
        "from surprise.accuracy import mse\n",
        "\n",
        "# entrenar algoritmo\n",
        "\n",
        "sim_options = {'name': 'cosine',\n",
        "               'user_based': True}\n",
        "\n",
        "# algoritmo base a usuario.\n",
        "user_model =\n",
        "\n",
        "# entrenar\n",
        "\n",
        "#predecir en dataframe de testeo\n",
        "\n",
        "predictions =  # retornar un dataframe con el rating estimado para cada (user_id, item_id)\n",
        "\n",
        "# obtener mse\n"
      ]
    },
    {
      "cell_type": "code",
      "execution_count": null,
      "metadata": {
        "id": "-wWHq0_QEhe_"
      },
      "outputs": [],
      "source": [
        "# ejemplo\n",
        "example = [(3, 3906, None)]\n",
        "print(user_model.test(example))\n",
        "get_user_top_k(predictions, user = 2170, k = 5)"
      ]
    },
    {
      "cell_type": "code",
      "execution_count": null,
      "metadata": {
        "id": "_Z_NJtPVGwYG"
      },
      "outputs": [],
      "source": [
        "# entrenar algoritmo base a items, obtener MSE\n",
        "\n",
        "sim_options =\n",
        "\n",
        "# algoritmo base a items.\n",
        "\n",
        "item_model =\n",
        "\n",
        "# entrenar\n",
        "\n",
        "#predecir en dataframe de testeo\n",
        "\n",
        "predictions =\n",
        "\n",
        "# obtener mse"
      ]
    },
    {
      "cell_type": "code",
      "execution_count": null,
      "metadata": {
        "id": "7xUtWiuSGeOx"
      },
      "outputs": [],
      "source": [
        "example = [(3, 3906, None)]\n",
        "print(item_model.test(example))\n",
        "\n",
        "get_user_top_k(predictions, user = 2170, k = 5)"
      ]
    },
    {
      "cell_type": "markdown",
      "metadata": {
        "id": "qEKzANYNrhKN"
      },
      "source": [
        "## **Filtros Colaborativos Basados en Modelo**\n",
        "\n",
        "Finalmente, se le pide implementar el modelo `SVD` para resolver el problema. Al igual que en las secciones anteriores, entrene este modelo y luego evalúe sus predicciones en el conjunto de test. Luego, responda:\n",
        "\n",
        "- ¿En qué se diferencia este tipo de modelos de los modelos basados en memoria?\n",
        "- ¿Qué significa el parámetro `num_factors`? ¿De qué manera podría impactar en el ajuste del modelo?\n",
        "- ¿Qué indican los parámetros $\\mu$, $b_u$, $b_i$? ¿Qué cuidado se debe tener al utilizarlos?\n",
        "- Obtenga el error cuadrático medio de sus recomendaciones y comente. ¿Se alcanza un mejor rendimiento con respecto al Baseline?\n",
        "- Obtenga el rating que le asignaria el usuario `3` al producto `3906`. ¿Son diferentes sus resultados? ¿Porqué?\n",
        "- Obtenga las 5 mejores recomendaciones para el usuario `2170` usando ambos enfoques y compare sus resultados."
      ]
    },
    {
      "cell_type": "code",
      "execution_count": null,
      "metadata": {
        "id": "pgqwVLs1HQTW"
      },
      "outputs": [],
      "source": [
        "# Respuesta\n",
        "\n",
        "model =\n",
        "\n",
        "# predicciones, retornar un dataframe con el rating estimado para cada (user_id, item_id)\n",
        "\n",
        "predictions ="
      ]
    },
    {
      "cell_type": "code",
      "execution_count": null,
      "metadata": {
        "id": "fHXiWNZtHaNc"
      },
      "outputs": [],
      "source": [
        "# calcular mae\n",
        "from surprise.accuracy import mae\n",
        "mae(predictions)"
      ]
    },
    {
      "cell_type": "markdown",
      "metadata": {
        "id": "w5H52or1WSL7"
      },
      "source": [
        "###**Comentarios Finales**\n",
        "\n",
        "* ¿Qué sistema de recomendación presenta mejores métricas? ¿A qué se podría deber esto?\n",
        "* ¿Es posible mejorar sus resultados? Si es así, proponga al menos 2 mejoras."
      ]
    }
  ],
  "metadata": {
    "colab": {
      "collapsed_sections": [
        "jKJ0AuRJpDa-"
      ],
      "provenance": []
    },
    "kernelspec": {
      "display_name": "Python 3",
      "language": "python",
      "name": "python3"
    },
    "language_info": {
      "name": "python",
      "version": "3.9.18"
    }
  },
  "nbformat": 4,
  "nbformat_minor": 0
}
